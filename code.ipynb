{
 "cells": [
  {
   "cell_type": "markdown",
   "metadata": {},
   "source": [
    "# Individual Assignment WIE3007\n",
    "Leveraging Featuretools to perform automated feature engineering on datasets.\n",
    "##### Lee Xiao Yu U2005405"
   ]
  },
  {
   "cell_type": "code",
   "execution_count": 2,
   "metadata": {},
   "outputs": [],
   "source": [
    "import featuretools as ft\n",
    "import pandas as pd\n"
   ]
  },
  {
   "cell_type": "markdown",
   "metadata": {},
   "source": [
    "### Define entity set and add entities into entity set."
   ]
  },
  {
   "cell_type": "code",
   "execution_count": 3,
   "metadata": {},
   "outputs": [],
   "source": [
    "es = ft.EntitySet(id=\"entity_set\")"
   ]
  },
  {
   "cell_type": "code",
   "execution_count": 4,
   "metadata": {},
   "outputs": [],
   "source": [
    "customers_df = pd.DataFrame({\n",
    "    'CustomerID': [101, 102, 103],\n",
    "    'Name': ['John Doe', 'Jane Smith', 'Mike Jordan'],\n",
    "    'Email': ['john.doe@example.com', 'jane.smith@example.com', 'mike.jordan@example.com'],\n",
    "    'SignupDate': ['2023-01-10', '2023-01-15', '2023-01-20'],\n",
    "})\n",
    "es = es.add_dataframe(dataframe_name=\"Customers\", dataframe=customers_df, index=\"CustomerID\")\n"
   ]
  },
  {
   "cell_type": "code",
   "execution_count": 5,
   "metadata": {},
   "outputs": [],
   "source": [
    "products_df = pd.DataFrame({\n",
    "    'ProductID': [201, 202, 203],\n",
    "    'Name': ['Laptop', 'Tablet', 'Smartphone'],\n",
    "    'Category': ['Electronics', 'Electronics', 'Electronics'],\n",
    "    'Price': [1000, 500, 800],\n",
    "})\n",
    "es = es.add_dataframe(dataframe_name=\"Products\", dataframe=products_df, index=\"ProductID\")\n"
   ]
  },
  {
   "cell_type": "code",
   "execution_count": 6,
   "metadata": {},
   "outputs": [],
   "source": [
    "orders_df = pd.DataFrame({\n",
    "    'OrderID': [301, 302, 303],\n",
    "    'CustomerID': [101, 102, 103],\n",
    "    'OrderDate': ['2023-02-01', '2023-02-05', '2023-02-10'],\n",
    "    'ShipDate': ['2023-02-03', '2023-02-07', '2023-02-12'],\n",
    "})\n",
    "es = es.add_dataframe(dataframe_name=\"Orders\", dataframe=orders_df, index=\"OrderID\")\n"
   ]
  },
  {
   "cell_type": "code",
   "execution_count": 7,
   "metadata": {},
   "outputs": [],
   "source": [
    "order_details_df = pd.DataFrame({\n",
    "    'OrderID': [301, 302, 303],\n",
    "    'ProductID': [201, 202, 203],\n",
    "    'Quantity': [1, 2, 1],\n",
    "    'Discount': [0, 0.1, 0]\n",
    "})\n",
    "es = es.add_dataframe(dataframe_name=\"OrderDetails\", dataframe=order_details_df, make_index=True, index=\"OrderDetailsID\")\n"
   ]
  },
  {
   "cell_type": "markdown",
   "metadata": {},
   "source": [
    "### Add relationships to the entities."
   ]
  },
  {
   "cell_type": "code",
   "execution_count": 8,
   "metadata": {},
   "outputs": [],
   "source": [
    "relationships = [\n",
    "    ('Customers', 'CustomerID', 'Orders', 'CustomerID'),\n",
    "    ('Products', 'ProductID', 'OrderDetails', 'ProductID'),\n",
    "    ('Orders', 'OrderID', 'OrderDetails', 'OrderID'),  \n",
    "]\n",
    "\n",
    "es = es.add_relationships(relationships)"
   ]
  },
  {
   "cell_type": "markdown",
   "metadata": {},
   "source": [
    "### Entity Set Information"
   ]
  },
  {
   "cell_type": "code",
   "execution_count": 9,
   "metadata": {},
   "outputs": [
    {
     "data": {
      "text/plain": [
       "Entityset: entity_set\n",
       "  DataFrames:\n",
       "    Customers [Rows: 3, Columns: 4]\n",
       "    Products [Rows: 3, Columns: 4]\n",
       "    Orders [Rows: 3, Columns: 4]\n",
       "    OrderDetails [Rows: 3, Columns: 5]\n",
       "  Relationships:\n",
       "    Orders.CustomerID -> Customers.CustomerID\n",
       "    OrderDetails.ProductID -> Products.ProductID\n",
       "    OrderDetails.OrderID -> Orders.OrderID"
      ]
     },
     "execution_count": 9,
     "metadata": {},
     "output_type": "execute_result"
    }
   ],
   "source": [
    "es"
   ]
  },
  {
   "cell_type": "markdown",
   "metadata": {},
   "source": [
    "### Perform Deep Feature Synthesis to generate features."
   ]
  },
  {
   "cell_type": "code",
   "execution_count": 10,
   "metadata": {},
   "outputs": [
    {
     "name": "stdout",
     "output_type": "stream",
     "text": [
      "Built 46 features\n",
      "Elapsed: 00:00 | Progress: 100%|██████████\n"
     ]
    }
   ],
   "source": [
    "# Run deep feature synthesis to generate features\n",
    "features, feature_names = ft.dfs(entityset=es,\n",
    "                                 target_dataframe_name='Orders',\n",
    "                                 verbose=True)\n"
   ]
  },
  {
   "cell_type": "code",
   "execution_count": 11,
   "metadata": {},
   "outputs": [
    {
     "data": {
      "text/html": [
       "<div>\n",
       "<style scoped>\n",
       "    .dataframe tbody tr th:only-of-type {\n",
       "        vertical-align: middle;\n",
       "    }\n",
       "\n",
       "    .dataframe tbody tr th {\n",
       "        vertical-align: top;\n",
       "    }\n",
       "\n",
       "    .dataframe thead th {\n",
       "        text-align: right;\n",
       "    }\n",
       "</style>\n",
       "<table border=\"1\" class=\"dataframe\">\n",
       "  <thead>\n",
       "    <tr style=\"text-align: right;\">\n",
       "      <th></th>\n",
       "      <th>CustomerID</th>\n",
       "      <th>COUNT(OrderDetails)</th>\n",
       "      <th>MAX(OrderDetails.Discount)</th>\n",
       "      <th>MAX(OrderDetails.Quantity)</th>\n",
       "      <th>MEAN(OrderDetails.Discount)</th>\n",
       "      <th>MEAN(OrderDetails.Quantity)</th>\n",
       "      <th>MIN(OrderDetails.Discount)</th>\n",
       "      <th>MIN(OrderDetails.Quantity)</th>\n",
       "      <th>SKEW(OrderDetails.Discount)</th>\n",
       "      <th>SKEW(OrderDetails.Quantity)</th>\n",
       "      <th>...</th>\n",
       "      <th>Customers.SKEW(OrderDetails.Discount)</th>\n",
       "      <th>Customers.SKEW(OrderDetails.Quantity)</th>\n",
       "      <th>Customers.STD(OrderDetails.Discount)</th>\n",
       "      <th>Customers.STD(OrderDetails.Quantity)</th>\n",
       "      <th>Customers.SUM(OrderDetails.Discount)</th>\n",
       "      <th>Customers.SUM(OrderDetails.Quantity)</th>\n",
       "      <th>Customers.DAY(SignupDate)</th>\n",
       "      <th>Customers.MONTH(SignupDate)</th>\n",
       "      <th>Customers.WEEKDAY(SignupDate)</th>\n",
       "      <th>Customers.YEAR(SignupDate)</th>\n",
       "    </tr>\n",
       "    <tr>\n",
       "      <th>OrderID</th>\n",
       "      <th></th>\n",
       "      <th></th>\n",
       "      <th></th>\n",
       "      <th></th>\n",
       "      <th></th>\n",
       "      <th></th>\n",
       "      <th></th>\n",
       "      <th></th>\n",
       "      <th></th>\n",
       "      <th></th>\n",
       "      <th></th>\n",
       "      <th></th>\n",
       "      <th></th>\n",
       "      <th></th>\n",
       "      <th></th>\n",
       "      <th></th>\n",
       "      <th></th>\n",
       "      <th></th>\n",
       "      <th></th>\n",
       "      <th></th>\n",
       "      <th></th>\n",
       "    </tr>\n",
       "  </thead>\n",
       "  <tbody>\n",
       "    <tr>\n",
       "      <th>301</th>\n",
       "      <td>101</td>\n",
       "      <td>1</td>\n",
       "      <td>0.0</td>\n",
       "      <td>1.0</td>\n",
       "      <td>0.0</td>\n",
       "      <td>1.0</td>\n",
       "      <td>0.0</td>\n",
       "      <td>1.0</td>\n",
       "      <td>NaN</td>\n",
       "      <td>NaN</td>\n",
       "      <td>...</td>\n",
       "      <td>NaN</td>\n",
       "      <td>NaN</td>\n",
       "      <td>NaN</td>\n",
       "      <td>NaN</td>\n",
       "      <td>0.0</td>\n",
       "      <td>1.0</td>\n",
       "      <td>10</td>\n",
       "      <td>1</td>\n",
       "      <td>1</td>\n",
       "      <td>2023</td>\n",
       "    </tr>\n",
       "    <tr>\n",
       "      <th>302</th>\n",
       "      <td>102</td>\n",
       "      <td>1</td>\n",
       "      <td>0.1</td>\n",
       "      <td>2.0</td>\n",
       "      <td>0.1</td>\n",
       "      <td>2.0</td>\n",
       "      <td>0.1</td>\n",
       "      <td>2.0</td>\n",
       "      <td>NaN</td>\n",
       "      <td>NaN</td>\n",
       "      <td>...</td>\n",
       "      <td>NaN</td>\n",
       "      <td>NaN</td>\n",
       "      <td>NaN</td>\n",
       "      <td>NaN</td>\n",
       "      <td>0.1</td>\n",
       "      <td>2.0</td>\n",
       "      <td>15</td>\n",
       "      <td>1</td>\n",
       "      <td>6</td>\n",
       "      <td>2023</td>\n",
       "    </tr>\n",
       "    <tr>\n",
       "      <th>303</th>\n",
       "      <td>103</td>\n",
       "      <td>1</td>\n",
       "      <td>0.0</td>\n",
       "      <td>1.0</td>\n",
       "      <td>0.0</td>\n",
       "      <td>1.0</td>\n",
       "      <td>0.0</td>\n",
       "      <td>1.0</td>\n",
       "      <td>NaN</td>\n",
       "      <td>NaN</td>\n",
       "      <td>...</td>\n",
       "      <td>NaN</td>\n",
       "      <td>NaN</td>\n",
       "      <td>NaN</td>\n",
       "      <td>NaN</td>\n",
       "      <td>0.0</td>\n",
       "      <td>1.0</td>\n",
       "      <td>20</td>\n",
       "      <td>1</td>\n",
       "      <td>4</td>\n",
       "      <td>2023</td>\n",
       "    </tr>\n",
       "  </tbody>\n",
       "</table>\n",
       "<p>3 rows × 46 columns</p>\n",
       "</div>"
      ],
      "text/plain": [
       "         CustomerID  COUNT(OrderDetails)  MAX(OrderDetails.Discount)  \\\n",
       "OrderID                                                                \n",
       "301             101                    1                         0.0   \n",
       "302             102                    1                         0.1   \n",
       "303             103                    1                         0.0   \n",
       "\n",
       "         MAX(OrderDetails.Quantity)  MEAN(OrderDetails.Discount)  \\\n",
       "OrderID                                                            \n",
       "301                             1.0                          0.0   \n",
       "302                             2.0                          0.1   \n",
       "303                             1.0                          0.0   \n",
       "\n",
       "         MEAN(OrderDetails.Quantity)  MIN(OrderDetails.Discount)  \\\n",
       "OrderID                                                            \n",
       "301                              1.0                         0.0   \n",
       "302                              2.0                         0.1   \n",
       "303                              1.0                         0.0   \n",
       "\n",
       "         MIN(OrderDetails.Quantity)  SKEW(OrderDetails.Discount)  \\\n",
       "OrderID                                                            \n",
       "301                             1.0                          NaN   \n",
       "302                             2.0                          NaN   \n",
       "303                             1.0                          NaN   \n",
       "\n",
       "         SKEW(OrderDetails.Quantity)  ...  \\\n",
       "OrderID                               ...   \n",
       "301                              NaN  ...   \n",
       "302                              NaN  ...   \n",
       "303                              NaN  ...   \n",
       "\n",
       "         Customers.SKEW(OrderDetails.Discount)  \\\n",
       "OrderID                                          \n",
       "301                                        NaN   \n",
       "302                                        NaN   \n",
       "303                                        NaN   \n",
       "\n",
       "         Customers.SKEW(OrderDetails.Quantity)  \\\n",
       "OrderID                                          \n",
       "301                                        NaN   \n",
       "302                                        NaN   \n",
       "303                                        NaN   \n",
       "\n",
       "         Customers.STD(OrderDetails.Discount)  \\\n",
       "OrderID                                         \n",
       "301                                       NaN   \n",
       "302                                       NaN   \n",
       "303                                       NaN   \n",
       "\n",
       "         Customers.STD(OrderDetails.Quantity)  \\\n",
       "OrderID                                         \n",
       "301                                       NaN   \n",
       "302                                       NaN   \n",
       "303                                       NaN   \n",
       "\n",
       "        Customers.SUM(OrderDetails.Discount)  \\\n",
       "OrderID                                        \n",
       "301                                      0.0   \n",
       "302                                      0.1   \n",
       "303                                      0.0   \n",
       "\n",
       "        Customers.SUM(OrderDetails.Quantity) Customers.DAY(SignupDate)  \\\n",
       "OrderID                                                                  \n",
       "301                                      1.0                        10   \n",
       "302                                      2.0                        15   \n",
       "303                                      1.0                        20   \n",
       "\n",
       "        Customers.MONTH(SignupDate) Customers.WEEKDAY(SignupDate)  \\\n",
       "OrderID                                                             \n",
       "301                               1                             1   \n",
       "302                               1                             6   \n",
       "303                               1                             4   \n",
       "\n",
       "        Customers.YEAR(SignupDate)  \n",
       "OrderID                             \n",
       "301                           2023  \n",
       "302                           2023  \n",
       "303                           2023  \n",
       "\n",
       "[3 rows x 46 columns]"
      ]
     },
     "execution_count": 11,
     "metadata": {},
     "output_type": "execute_result"
    }
   ],
   "source": [
    "features"
   ]
  },
  {
   "cell_type": "code",
   "execution_count": 12,
   "metadata": {},
   "outputs": [
    {
     "data": {
      "text/plain": [
       "[<Feature: CustomerID>,\n",
       " <Feature: COUNT(OrderDetails)>,\n",
       " <Feature: MAX(OrderDetails.Discount)>,\n",
       " <Feature: MAX(OrderDetails.Quantity)>,\n",
       " <Feature: MEAN(OrderDetails.Discount)>,\n",
       " <Feature: MEAN(OrderDetails.Quantity)>,\n",
       " <Feature: MIN(OrderDetails.Discount)>,\n",
       " <Feature: MIN(OrderDetails.Quantity)>,\n",
       " <Feature: SKEW(OrderDetails.Discount)>,\n",
       " <Feature: SKEW(OrderDetails.Quantity)>,\n",
       " <Feature: STD(OrderDetails.Discount)>,\n",
       " <Feature: STD(OrderDetails.Quantity)>,\n",
       " <Feature: SUM(OrderDetails.Discount)>,\n",
       " <Feature: SUM(OrderDetails.Quantity)>,\n",
       " <Feature: DAY(OrderDate)>,\n",
       " <Feature: DAY(ShipDate)>,\n",
       " <Feature: MONTH(OrderDate)>,\n",
       " <Feature: MONTH(ShipDate)>,\n",
       " <Feature: WEEKDAY(OrderDate)>,\n",
       " <Feature: WEEKDAY(ShipDate)>,\n",
       " <Feature: YEAR(OrderDate)>,\n",
       " <Feature: YEAR(ShipDate)>,\n",
       " <Feature: MAX(OrderDetails.Products.Price)>,\n",
       " <Feature: MEAN(OrderDetails.Products.Price)>,\n",
       " <Feature: MIN(OrderDetails.Products.Price)>,\n",
       " <Feature: SKEW(OrderDetails.Products.Price)>,\n",
       " <Feature: STD(OrderDetails.Products.Price)>,\n",
       " <Feature: SUM(OrderDetails.Products.Price)>,\n",
       " <Feature: Customers.COUNT(Orders)>,\n",
       " <Feature: Customers.COUNT(OrderDetails)>,\n",
       " <Feature: Customers.MAX(OrderDetails.Discount)>,\n",
       " <Feature: Customers.MAX(OrderDetails.Quantity)>,\n",
       " <Feature: Customers.MEAN(OrderDetails.Discount)>,\n",
       " <Feature: Customers.MEAN(OrderDetails.Quantity)>,\n",
       " <Feature: Customers.MIN(OrderDetails.Discount)>,\n",
       " <Feature: Customers.MIN(OrderDetails.Quantity)>,\n",
       " <Feature: Customers.SKEW(OrderDetails.Discount)>,\n",
       " <Feature: Customers.SKEW(OrderDetails.Quantity)>,\n",
       " <Feature: Customers.STD(OrderDetails.Discount)>,\n",
       " <Feature: Customers.STD(OrderDetails.Quantity)>,\n",
       " <Feature: Customers.SUM(OrderDetails.Discount)>,\n",
       " <Feature: Customers.SUM(OrderDetails.Quantity)>,\n",
       " <Feature: Customers.DAY(SignupDate)>,\n",
       " <Feature: Customers.MONTH(SignupDate)>,\n",
       " <Feature: Customers.WEEKDAY(SignupDate)>,\n",
       " <Feature: Customers.YEAR(SignupDate)>]"
      ]
     },
     "execution_count": 12,
     "metadata": {},
     "output_type": "execute_result"
    }
   ],
   "source": [
    "feature_names"
   ]
  },
  {
   "cell_type": "markdown",
   "metadata": {},
   "source": [
    "### Generate features of SUM statistics and select MONTH as transform primitives only."
   ]
  },
  {
   "cell_type": "code",
   "execution_count": 13,
   "metadata": {},
   "outputs": [
    {
     "name": "stdout",
     "output_type": "stream",
     "text": [
      "Built 9 features\n",
      "Elapsed: 00:00 | Progress: 100%|██████████\n"
     ]
    }
   ],
   "source": [
    "features_sum, feature_names_sum = ft.dfs(entityset=es,\n",
    "                                 target_dataframe_name='Orders',\n",
    "                                 agg_primitives=['SUM'],\n",
    "                                 trans_primitives=['MONTH'],\n",
    "                                 verbose=True)\n"
   ]
  },
  {
   "cell_type": "code",
   "execution_count": 14,
   "metadata": {},
   "outputs": [
    {
     "data": {
      "text/plain": [
       "[<Feature: CustomerID>,\n",
       " <Feature: SUM(OrderDetails.Discount)>,\n",
       " <Feature: SUM(OrderDetails.Quantity)>,\n",
       " <Feature: MONTH(OrderDate)>,\n",
       " <Feature: MONTH(ShipDate)>,\n",
       " <Feature: SUM(OrderDetails.Products.Price)>,\n",
       " <Feature: Customers.SUM(OrderDetails.Discount)>,\n",
       " <Feature: Customers.SUM(OrderDetails.Quantity)>,\n",
       " <Feature: Customers.MONTH(SignupDate)>]"
      ]
     },
     "execution_count": 14,
     "metadata": {},
     "output_type": "execute_result"
    }
   ],
   "source": [
    "feature_names_sum"
   ]
  },
  {
   "cell_type": "markdown",
   "metadata": {},
   "source": [
    "### Explore the features matrix and select useful features for insights\n",
    "Example: Select product price and quantity for calculation of Total Price. Analyse Total Price with Weekdays to find buying trends."
   ]
  },
  {
   "cell_type": "code",
   "execution_count": 15,
   "metadata": {},
   "outputs": [
    {
     "data": {
      "text/html": [
       "<div>\n",
       "<style scoped>\n",
       "    .dataframe tbody tr th:only-of-type {\n",
       "        vertical-align: middle;\n",
       "    }\n",
       "\n",
       "    .dataframe tbody tr th {\n",
       "        vertical-align: top;\n",
       "    }\n",
       "\n",
       "    .dataframe thead th {\n",
       "        text-align: right;\n",
       "    }\n",
       "</style>\n",
       "<table border=\"1\" class=\"dataframe\">\n",
       "  <thead>\n",
       "    <tr style=\"text-align: right;\">\n",
       "      <th></th>\n",
       "      <th>WEEKDAY(OrderDate)</th>\n",
       "      <th>SUM(OrderDetails.Products.Price)</th>\n",
       "      <th>SUM(OrderDetails.Quantity)</th>\n",
       "      <th>Total Price</th>\n",
       "    </tr>\n",
       "    <tr>\n",
       "      <th>OrderID</th>\n",
       "      <th></th>\n",
       "      <th></th>\n",
       "      <th></th>\n",
       "      <th></th>\n",
       "    </tr>\n",
       "  </thead>\n",
       "  <tbody>\n",
       "    <tr>\n",
       "      <th>301</th>\n",
       "      <td>2</td>\n",
       "      <td>1000.0</td>\n",
       "      <td>1.0</td>\n",
       "      <td>1000.0</td>\n",
       "    </tr>\n",
       "    <tr>\n",
       "      <th>302</th>\n",
       "      <td>6</td>\n",
       "      <td>500.0</td>\n",
       "      <td>2.0</td>\n",
       "      <td>1000.0</td>\n",
       "    </tr>\n",
       "    <tr>\n",
       "      <th>303</th>\n",
       "      <td>4</td>\n",
       "      <td>800.0</td>\n",
       "      <td>1.0</td>\n",
       "      <td>800.0</td>\n",
       "    </tr>\n",
       "  </tbody>\n",
       "</table>\n",
       "</div>"
      ],
      "text/plain": [
       "        WEEKDAY(OrderDate)  SUM(OrderDetails.Products.Price)  \\\n",
       "OrderID                                                        \n",
       "301                      2                            1000.0   \n",
       "302                      6                             500.0   \n",
       "303                      4                             800.0   \n",
       "\n",
       "         SUM(OrderDetails.Quantity)  Total Price  \n",
       "OrderID                                           \n",
       "301                             1.0       1000.0  \n",
       "302                             2.0       1000.0  \n",
       "303                             1.0        800.0  "
      ]
     },
     "execution_count": 15,
     "metadata": {},
     "output_type": "execute_result"
    }
   ],
   "source": [
    "df_trend = features[['WEEKDAY(OrderDate)','SUM(OrderDetails.Products.Price)', 'SUM(OrderDetails.Quantity)']]\n",
    "df_trend['Total Price'] = df_trend['SUM(OrderDetails.Products.Price)'] * df_trend['SUM(OrderDetails.Quantity)']\n",
    "df_trend"
   ]
  }
 ],
 "metadata": {
  "kernelspec": {
   "display_name": ".venv",
   "language": "python",
   "name": "python3"
  },
  "language_info": {
   "codemirror_mode": {
    "name": "ipython",
    "version": 3
   },
   "file_extension": ".py",
   "mimetype": "text/x-python",
   "name": "python",
   "nbconvert_exporter": "python",
   "pygments_lexer": "ipython3",
   "version": "3.11.3"
  }
 },
 "nbformat": 4,
 "nbformat_minor": 2
}
